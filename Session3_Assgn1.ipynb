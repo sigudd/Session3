{
 "cells": [
  {
   "cell_type": "code",
   "execution_count": 1,
   "metadata": {},
   "outputs": [
    {
     "name": "stdout",
     "output_type": "stream",
     "text": [
      "The area of the triangle is 14.70\n"
     ]
    }
   ],
   "source": [
    "class Traingle:\n",
    "    def __init__(self,  a, b,c):\n",
    "        self.a = a\n",
    "        self.b = b\n",
    "        self.c = c\n",
    "\n",
    "class TraingleArea(Traingle):\n",
    "    def __init__(self, *args):\n",
    "        super(TraingleArea, self).__init__(*args)\n",
    "    \n",
    "    def area(self):\n",
    "        s = (self.a +self.b + self.c) / 2\n",
    "        return (s*(s-self.a)*(s-self.b)*(s-self.c)) ** 0.5\n",
    "    \n",
    "\n",
    "traingleArea = TraingleArea(5,6,7)\n",
    "print('The area of the triangle is %0.2f' %traingleArea.area())"
   ]
  },
  {
   "cell_type": "code",
   "execution_count": 2,
   "metadata": {},
   "outputs": [
    {
     "name": "stdout",
     "output_type": "stream",
     "text": [
      "['Information', 'Acadgild', 'DataScience', 'Testing']\n"
     ]
    }
   ],
   "source": [
    "def filter_long_words(words,length):\n",
    "    longerWords = []\n",
    "    for word in words:\n",
    "        if len(word)> length:\n",
    "            longerWords.append(word)\n",
    "    return longerWords\n",
    "\n",
    "wordsList = [\"Stat\",\"Hello\",\"Information\",\"Acadgild\",\"DataScience\",\"Testing\"]\n",
    "length = 6\n",
    "longerWords = filter_long_words(wordsList,length)\n",
    "print(longerWords)"
   ]
  },
  {
   "cell_type": "code",
   "execution_count": 4,
   "metadata": {},
   "outputs": [
    {
     "name": "stdout",
     "output_type": "stream",
     "text": [
      "[4, 5, 11, 8, 11, 7]\n"
     ]
    }
   ],
   "source": [
    "def len_of_words(words):\n",
    "    wordsLen = []\n",
    "    for word in words:\n",
    "        wordsLen.append(len(word))\n",
    "    return wordsLen\n",
    "\n",
    "wordsList = [\"Stat\",\"Hello\",\"Information\",\"Acadgild\",\"DataScience\",\"Testing\"]\n",
    "\n",
    "wordsLen = len_of_words(wordsList)\n",
    "\n",
    "print(wordsLen)"
   ]
  },
  {
   "cell_type": "code",
   "execution_count": 7,
   "metadata": {},
   "outputs": [
    {
     "name": "stdout",
     "output_type": "stream",
     "text": [
      "True\n",
      "False\n",
      "False\n",
      "False\n",
      "True\n",
      "False\n",
      "False\n",
      "False\n",
      "True\n"
     ]
    }
   ],
   "source": [
    "def isVowel(charStr):\n",
    "    if charStr.lower() in [\"a\",\"e\",\"i\",\"o\",\"u\"]:\n",
    "        return True\n",
    "    else:\n",
    "        return False\n",
    "\n",
    "charStrArr = [\"A\",\"b\",\"C\",\"F\",\"e\",\"Shi\",\"K\",\"p\",\"i\"]\n",
    "\n",
    "for charStr in charStrArr:\n",
    "    print(isVowel(charStr))"
   ]
  },
  {
   "cell_type": "code",
   "execution_count": null,
   "metadata": {},
   "outputs": [],
   "source": []
  }
 ],
 "metadata": {
  "kernelspec": {
   "display_name": "Python 3",
   "language": "python",
   "name": "python3"
  },
  "language_info": {
   "codemirror_mode": {
    "name": "ipython",
    "version": 3
   },
   "file_extension": ".py",
   "mimetype": "text/x-python",
   "name": "python",
   "nbconvert_exporter": "python",
   "pygments_lexer": "ipython3",
   "version": "3.7.0"
  }
 },
 "nbformat": 4,
 "nbformat_minor": 2
}
