{
 "cells": [
  {
   "cell_type": "code",
   "execution_count": 1,
   "metadata": {},
   "outputs": [
    {
     "name": "stdout",
     "output_type": "stream",
     "text": [
      "Denominator can not be zero, returning zero \n",
      "computed value 0\n"
     ]
    }
   ],
   "source": [
    "def compute(numerator,denominator):\n",
    "    try:\n",
    "        value = numerator/denominator\n",
    "    except ZeroDivisionError:\n",
    "        print(\"Denominator can not be zero, returning zero \") \n",
    "        value = 0\n",
    "    finally:\n",
    "        pass\n",
    "    return value\n",
    "print(\"computed value\",compute(5,0))\n"
   ]
  },
  {
   "cell_type": "code",
   "execution_count": 3,
   "metadata": {},
   "outputs": [
    {
     "name": "stdout",
     "output_type": "stream",
     "text": [
      "Americans play Baseball\n",
      "Americans watch Baseball\n",
      "Americans watch Cricket\n",
      "Indians play Baseball\n",
      "Indians play Cricket\n",
      "Indians watch Baseball\n",
      "Indians watch Cricket\n"
     ]
    }
   ],
   "source": [
    "def printSentences(sentences):\n",
    "    subjects=[\"Americans\",\"Indians\"]\n",
    "    verbs=[\"play\",\"watch\"]\n",
    "    objects=[\"Baseball\",\"Cricket\"]\n",
    "    newSentences = []\n",
    "    for sentence in sentences:\n",
    "        words = sentence.split(\" \")\n",
    "        if words[0] in subjects and words[1] in verbs and words[2] in objects:\n",
    "            print(sentence)\n",
    "\n",
    "\n",
    "sentences= [\"Americans play Baseball\",\"Brezil watch cricket\"\n",
    "            \"Americans play Cricket\",\"Americans watch Baseball\",\"Americans watch Cricket\",\n",
    "            \"Indians play Baseball\",\"Indians play Cricket\",\"Indians watch Baseball\",\"Netharlands play Rugby\",\n",
    "            \"Indians watch Cricket\",\"Germans play Football\"]\n",
    "\n",
    "printSentences(sentences)"
   ]
  },
  {
   "cell_type": "code",
   "execution_count": null,
   "metadata": {},
   "outputs": [],
   "source": []
  }
 ],
 "metadata": {
  "kernelspec": {
   "display_name": "Python 3",
   "language": "python",
   "name": "python3"
  },
  "language_info": {
   "codemirror_mode": {
    "name": "ipython",
    "version": 3
   },
   "file_extension": ".py",
   "mimetype": "text/x-python",
   "name": "python",
   "nbconvert_exporter": "python",
   "pygments_lexer": "ipython3",
   "version": "3.7.0"
  }
 },
 "nbformat": 4,
 "nbformat_minor": 2
}
